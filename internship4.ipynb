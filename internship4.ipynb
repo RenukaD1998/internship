{
  "nbformat": 4,
  "nbformat_minor": 0,
  "metadata": {
    "colab": {
      "name": "Welcome To Colaboratory",
      "version": "0.3.2",
      "provenance": [],
      "collapsed_sections": [],
      "include_colab_link": true
    },
    "kernelspec": {
      "display_name": "Python 3",
      "name": "python3"
    }
  },
  "cells": [
    {
      "cell_type": "markdown",
      "metadata": {
        "id": "view-in-github",
        "colab_type": "text"
      },
      "source": [
        "<a href=\"https://colab.research.google.com/github/RenukaD1998/internship/blob/master/internship4.ipynb\" target=\"_parent\"><img src=\"https://colab.research.google.com/assets/colab-badge.svg\" alt=\"Open In Colab\"/></a>"
      ]
    },
    {
      "cell_type": "markdown",
      "metadata": {
        "colab_type": "text",
        "id": "5fCEDCU_qrC0"
      },
      "source": [
        "<p><img alt=\"Colaboratory logo\" height=\"45px\" src=\"https://colab.research.google.com/img/colab_favicon.ico\" align=\"left\" hspace=\"10px\" vspace=\"0px\"></p>\n",
        "\n",
        "<h1>Welcome to Colaboratory!</h1>\n",
        "\n",
        "\n",
        "Colaboratory is a free Jupyter notebook environment that requires no setup and runs entirely in the cloud.\n",
        "\n",
        "With Colaboratory you can write and execute code, save and share your analyses, and access powerful computing resources, all for free from your browser."
      ]
    },
    {
      "cell_type": "code",
      "metadata": {
        "colab_type": "code",
        "id": "xitplqMNk_Hc",
        "outputId": "ed4f60d2-878d-4056-c438-352dac39a112",
        "colab": {
          "height": 420
        }
      },
      "source": [
        "#@title Introducing Colaboratory { display-mode: \"form\" }\n",
        "#@markdown This 3-minute video gives an overview of the key features of Colaboratory:\n",
        "from IPython.display import YouTubeVideo\n",
        "YouTubeVideo('inN8seMm7UI', width=600, height=400)"
      ],
      "execution_count": 0,
      "outputs": [
        {
          "output_type": "execute_result",
          "data": {
            "text/html": [
              "\n",
              "        <iframe\n",
              "            width=\"600\"\n",
              "            height=\"400\"\n",
              "            src=\"https://www.youtube.com/embed/inN8seMm7UI\"\n",
              "            frameborder=\"0\"\n",
              "            allowfullscreen\n",
              "        ></iframe>\n",
              "        "
            ],
            "text/plain": [
              "<IPython.lib.display.YouTubeVideo at 0x7f956e9dda50>"
            ]
          },
          "metadata": {
            "tags": []
          },
          "execution_count": 0
        }
      ]
    },
    {
      "cell_type": "markdown",
      "metadata": {
        "colab_type": "text",
        "id": "GJBs_flRovLc"
      },
      "source": [
        "## Getting Started\n",
        "\n",
        "The document you are reading is a  [Jupyter notebook](https://jupyter.org/), hosted in Colaboratory. It is not a static page, but an interactive environment that lets you write and execute code in Python and other languages.\n",
        "\n",
        "For example, here is a **code cell** with a short Python script that computes a value, stores it in a variable, and prints the result:"
      ]
    },
    {
      "cell_type": "code",
      "metadata": {
        "colab_type": "code",
        "id": "gJr_9dXGpJ05",
        "outputId": "5626194c-e802-4293-942d-2908885c3c1f",
        "colab": {
          "height": 35
        }
      },
      "source": [
        "seconds_in_a_day = 24 * 60 * 60\n",
        "seconds_in_a_day"
      ],
      "execution_count": 0,
      "outputs": [
        {
          "output_type": "execute_result",
          "data": {
            "text/plain": [
              "86400"
            ]
          },
          "metadata": {
            "tags": []
          },
          "execution_count": 0
        }
      ]
    },
    {
      "cell_type": "markdown",
      "metadata": {
        "colab_type": "text",
        "id": "2fhs6GZ4qFMx"
      },
      "source": [
        "To execute the code in the above cell, select it with a click and then either press the play button to the left of the code, or use the keyboard shortcut \"Command/Ctrl+Enter\".\n",
        "\n",
        "All cells modify the same global state, so variables that you define by executing a cell can be used in other cells:"
      ]
    },
    {
      "cell_type": "code",
      "metadata": {
        "colab_type": "code",
        "id": "-gE-Ez1qtyIA",
        "outputId": "8d2e4259-4682-4e19-b683-7b9087f28820",
        "colab": {
          "height": 35
        }
      },
      "source": [
        "seconds_in_a_week = 7 * seconds_in_a_day\n",
        "seconds_in_a_week"
      ],
      "execution_count": 0,
      "outputs": [
        {
          "output_type": "execute_result",
          "data": {
            "text/plain": [
              "604800"
            ]
          },
          "metadata": {
            "tags": []
          },
          "execution_count": 0
        }
      ]
    },
    {
      "cell_type": "markdown",
      "metadata": {
        "colab_type": "text",
        "id": "lSrWNr3MuFUS"
      },
      "source": [
        "For more information about working with Colaboratory notebooks, see [Overview of Colaboratory](/notebooks/basic_features_overview.ipynb).\n"
      ]
    },
    {
      "cell_type": "markdown",
      "metadata": {
        "colab_type": "text",
        "id": "-Rh3-Vt9Nev9"
      },
      "source": [
        "## More Resources\n",
        "\n",
        "Learn how to make the most of Python, Jupyter, Colaboratory, and related tools with these resources:\n",
        "\n",
        "### Working with Notebooks in Colaboratory\n",
        "- [Overview of Colaboratory](/notebooks/basic_features_overview.ipynb)\n",
        "- [Guide to Markdown](/notebooks/markdown_guide.ipynb)\n",
        "- [Importing libraries and installing dependencies](/notebooks/snippets/importing_libraries.ipynb)\n",
        "- [Saving and loading notebooks in GitHub](https://colab.research.google.com/github/googlecolab/colabtools/blob/master/notebooks/colab-github-demo.ipynb)\n",
        "- [Interactive forms](/notebooks/forms.ipynb)\n",
        "- [Interactive widgets](/notebooks/widgets.ipynb)\n",
        "\n",
        "### Working with Data\n",
        "- [Loading data: Drive, Sheets, and Google Cloud Storage](/notebooks/io.ipynb) \n",
        "- [Charts: visualizing data](/notebooks/charts.ipynb)\n",
        "- [Getting started with BigQuery](/notebooks/bigquery.ipynb)\n",
        "\n",
        "### Machine Learning Crash Course\n",
        "These are a few of the notebooks from Google's online Machine Learning course. See the [full course website](https://developers.google.com/machine-learning/crash-course/) for more.\n",
        "- [Intro to Pandas](/notebooks/mlcc/intro_to_pandas.ipynb)\n",
        "- [Tensorflow concepts](/notebooks/mlcc/tensorflow_programming_concepts.ipynb)\n",
        "- [First steps with TensorFlow](/notebooks/mlcc/first_steps_with_tensor_flow.ipynb)\n",
        "- [Intro to neural nets](/notebooks/mlcc/intro_to_neural_nets.ipynb)\n",
        "- [Intro to sparse data and embeddings](/notebooks/mlcc/intro_to_sparse_data_and_embeddings.ipynb)\n",
        "\n",
        "### Using Accelerated Hardware\n",
        "- [TensorFlow with GPUs](/notebooks/gpu.ipynb)\n",
        "- [TensorFlow with TPUs](/notebooks/tpu.ipynb)"
      ]
    },
    {
      "cell_type": "markdown",
      "metadata": {
        "colab_type": "text",
        "id": "P-H6Lw1vyNNd"
      },
      "source": [
        "## Machine Learning Examples: Seedbank\n",
        "\n",
        "To see end-to-end examples of the interactive machine learning analyses that Colaboratory makes possible, check out the [Seedbank](https://research.google.com/seedbank/) project.\n",
        "\n",
        "A few featured examples:\n",
        "\n",
        "- [Neural Style Transfer](https://research.google.com/seedbank/seed/neural_style_transfer_with_tfkeras): Use deep learning to transfer style between images.\n",
        "- [EZ NSynth](https://research.google.com/seedbank/seed/ez_nsynth): Synthesize audio with WaveNet auto-encoders.\n",
        "- [Fashion MNIST with Keras and TPUs](https://research.google.com/seedbank/seed/fashion_mnist_with_keras_and_tpus): Classify fashion-related images with deep learning.\n",
        "- [DeepDream](https://research.google.com/seedbank/seed/deepdream): Produce DeepDream images from your own photos.\n",
        "- [Convolutional VAE](https://research.google.com/seedbank/seed/convolutional_vae): Create a generative model of handwritten digits."
      ]
    },
    {
      "cell_type": "code",
      "metadata": {
        "id": "RmytdKFjnFJS",
        "colab_type": "code",
        "colab": {
          "base_uri": "https://localhost:8080/",
          "height": 185
        },
        "outputId": "383b2e78-7d40-4fd2-b137-11ad9c0d3086"
      },
      "source": [
        "import numpy as np\n",
        "from sklearn.preprocessing import MinMaxScaler\n",
        "demoData = np.random.randint(10, 100, (10 ,2))\n",
        "demoData"
      ],
      "execution_count": 3,
      "outputs": [
        {
          "output_type": "execute_result",
          "data": {
            "text/plain": [
              "array([[63, 39],\n",
              "       [62, 13],\n",
              "       [87, 78],\n",
              "       [71, 11],\n",
              "       [18, 21],\n",
              "       [39, 67],\n",
              "       [93, 77],\n",
              "       [85, 63],\n",
              "       [43, 58],\n",
              "       [74, 66]])"
            ]
          },
          "metadata": {
            "tags": []
          },
          "execution_count": 3
        }
      ]
    },
    {
      "cell_type": "code",
      "metadata": {
        "id": "af23eWFVqHPS",
        "colab_type": "code",
        "colab": {
          "base_uri": "https://localhost:8080/",
          "height": 185
        },
        "outputId": "d732a248-bc21-4912-bed3-3002fec7d4bb"
      },
      "source": [
        "scalar_model = MinMaxScaler()\n",
        "scalar_model.fit_transform(demoData)"
      ],
      "execution_count": 4,
      "outputs": [
        {
          "output_type": "execute_result",
          "data": {
            "text/plain": [
              "array([[0.6       , 0.41791045],\n",
              "       [0.58666667, 0.02985075],\n",
              "       [0.92      , 1.        ],\n",
              "       [0.70666667, 0.        ],\n",
              "       [0.        , 0.14925373],\n",
              "       [0.28      , 0.8358209 ],\n",
              "       [1.        , 0.98507463],\n",
              "       [0.89333333, 0.7761194 ],\n",
              "       [0.33333333, 0.70149254],\n",
              "       [0.74666667, 0.82089552]])"
            ]
          },
          "metadata": {
            "tags": []
          },
          "execution_count": 4
        }
      ]
    },
    {
      "cell_type": "code",
      "metadata": {
        "id": "zk5JEq8dqUUW",
        "colab_type": "code",
        "colab": {
          "base_uri": "https://localhost:8080/",
          "height": 353
        },
        "outputId": "01e2359d-6ac9-42f2-8b2f-341bf70b33a7"
      },
      "source": [
        "import numpy as np\n",
        "from sklearn.preprocessing import MinMaxScaler\n",
        "demoData = np.random.randint(1, 500, (20 ,4))\n",
        "demoData"
      ],
      "execution_count": 5,
      "outputs": [
        {
          "output_type": "execute_result",
          "data": {
            "text/plain": [
              "array([[493, 452,  58, 156],\n",
              "       [ 25, 299,  23, 282],\n",
              "       [180, 161,  64, 129],\n",
              "       [425, 153, 474, 319],\n",
              "       [251, 451, 287, 170],\n",
              "       [468, 284, 166,  23],\n",
              "       [  8, 435, 456, 315],\n",
              "       [154, 328, 131,  66],\n",
              "       [245, 135, 115, 225],\n",
              "       [105, 206, 295, 168],\n",
              "       [ 96, 168,  24, 289],\n",
              "       [206, 411, 365, 222],\n",
              "       [398, 263, 321, 330],\n",
              "       [433, 393, 240, 487],\n",
              "       [470, 237, 279, 249],\n",
              "       [469,  88, 400, 385],\n",
              "       [124, 255,  47, 316],\n",
              "       [243, 444, 225, 168],\n",
              "       [191, 195, 139, 332],\n",
              "       [429, 170, 394, 405]])"
            ]
          },
          "metadata": {
            "tags": []
          },
          "execution_count": 5
        }
      ]
    },
    {
      "cell_type": "code",
      "metadata": {
        "id": "OemvlkgDqgIg",
        "colab_type": "code",
        "colab": {
          "base_uri": "https://localhost:8080/",
          "height": 353
        },
        "outputId": "b0f22645-1ce0-4cfd-aeff-a04ee15c2766"
      },
      "source": [
        "scalar_model = MinMaxScaler()\n",
        "feature_data = scalar_model.fit_transform(demoData)\n",
        "feature_data"
      ],
      "execution_count": 6,
      "outputs": [
        {
          "output_type": "execute_result",
          "data": {
            "text/plain": [
              "array([[1.        , 1.        , 0.07760532, 0.28663793],\n",
              "       [0.03505155, 0.57967033, 0.        , 0.55818966],\n",
              "       [0.35463918, 0.20054945, 0.09090909, 0.22844828],\n",
              "       [0.85979381, 0.17857143, 1.        , 0.63793103],\n",
              "       [0.50103093, 0.99725275, 0.58536585, 0.31681034],\n",
              "       [0.94845361, 0.53846154, 0.31707317, 0.        ],\n",
              "       [0.        , 0.9532967 , 0.96008869, 0.62931034],\n",
              "       [0.30103093, 0.65934066, 0.23946785, 0.09267241],\n",
              "       [0.48865979, 0.12912088, 0.20399113, 0.43534483],\n",
              "       [0.2       , 0.32417582, 0.60310421, 0.3125    ],\n",
              "       [0.1814433 , 0.21978022, 0.00221729, 0.57327586],\n",
              "       [0.40824742, 0.88736264, 0.75831486, 0.42887931],\n",
              "       [0.80412371, 0.48076923, 0.66075388, 0.66163793],\n",
              "       [0.87628866, 0.83791209, 0.48115299, 1.        ],\n",
              "       [0.95257732, 0.40934066, 0.56762749, 0.48706897],\n",
              "       [0.95051546, 0.        , 0.83592018, 0.78017241],\n",
              "       [0.23917526, 0.45879121, 0.05321508, 0.63146552],\n",
              "       [0.48453608, 0.97802198, 0.44789357, 0.3125    ],\n",
              "       [0.37731959, 0.29395604, 0.25720621, 0.66594828],\n",
              "       [0.86804124, 0.22527473, 0.82261641, 0.82327586]])"
            ]
          },
          "metadata": {
            "tags": []
          },
          "execution_count": 6
        }
      ]
    },
    {
      "cell_type": "code",
      "metadata": {
        "id": "lU65zYHzqun1",
        "colab_type": "code",
        "colab": {
          "base_uri": "https://localhost:8080/",
          "height": 639
        },
        "outputId": "5640c87c-3fdd-4de8-b482-c3f60c16a127"
      },
      "source": [
        "import pandas as pd\n",
        "df = pd.DataFrame(data=feature_data, columns=['k1', 'k2', 'k3', 'labels'])\n",
        "df"
      ],
      "execution_count": 7,
      "outputs": [
        {
          "output_type": "execute_result",
          "data": {
            "text/html": [
              "<div>\n",
              "<style scoped>\n",
              "    .dataframe tbody tr th:only-of-type {\n",
              "        vertical-align: middle;\n",
              "    }\n",
              "\n",
              "    .dataframe tbody tr th {\n",
              "        vertical-align: top;\n",
              "    }\n",
              "\n",
              "    .dataframe thead th {\n",
              "        text-align: right;\n",
              "    }\n",
              "</style>\n",
              "<table border=\"1\" class=\"dataframe\">\n",
              "  <thead>\n",
              "    <tr style=\"text-align: right;\">\n",
              "      <th></th>\n",
              "      <th>k1</th>\n",
              "      <th>k2</th>\n",
              "      <th>k3</th>\n",
              "      <th>labels</th>\n",
              "    </tr>\n",
              "  </thead>\n",
              "  <tbody>\n",
              "    <tr>\n",
              "      <th>0</th>\n",
              "      <td>1.000000</td>\n",
              "      <td>1.000000</td>\n",
              "      <td>0.077605</td>\n",
              "      <td>0.286638</td>\n",
              "    </tr>\n",
              "    <tr>\n",
              "      <th>1</th>\n",
              "      <td>0.035052</td>\n",
              "      <td>0.579670</td>\n",
              "      <td>0.000000</td>\n",
              "      <td>0.558190</td>\n",
              "    </tr>\n",
              "    <tr>\n",
              "      <th>2</th>\n",
              "      <td>0.354639</td>\n",
              "      <td>0.200549</td>\n",
              "      <td>0.090909</td>\n",
              "      <td>0.228448</td>\n",
              "    </tr>\n",
              "    <tr>\n",
              "      <th>3</th>\n",
              "      <td>0.859794</td>\n",
              "      <td>0.178571</td>\n",
              "      <td>1.000000</td>\n",
              "      <td>0.637931</td>\n",
              "    </tr>\n",
              "    <tr>\n",
              "      <th>4</th>\n",
              "      <td>0.501031</td>\n",
              "      <td>0.997253</td>\n",
              "      <td>0.585366</td>\n",
              "      <td>0.316810</td>\n",
              "    </tr>\n",
              "    <tr>\n",
              "      <th>5</th>\n",
              "      <td>0.948454</td>\n",
              "      <td>0.538462</td>\n",
              "      <td>0.317073</td>\n",
              "      <td>0.000000</td>\n",
              "    </tr>\n",
              "    <tr>\n",
              "      <th>6</th>\n",
              "      <td>0.000000</td>\n",
              "      <td>0.953297</td>\n",
              "      <td>0.960089</td>\n",
              "      <td>0.629310</td>\n",
              "    </tr>\n",
              "    <tr>\n",
              "      <th>7</th>\n",
              "      <td>0.301031</td>\n",
              "      <td>0.659341</td>\n",
              "      <td>0.239468</td>\n",
              "      <td>0.092672</td>\n",
              "    </tr>\n",
              "    <tr>\n",
              "      <th>8</th>\n",
              "      <td>0.488660</td>\n",
              "      <td>0.129121</td>\n",
              "      <td>0.203991</td>\n",
              "      <td>0.435345</td>\n",
              "    </tr>\n",
              "    <tr>\n",
              "      <th>9</th>\n",
              "      <td>0.200000</td>\n",
              "      <td>0.324176</td>\n",
              "      <td>0.603104</td>\n",
              "      <td>0.312500</td>\n",
              "    </tr>\n",
              "    <tr>\n",
              "      <th>10</th>\n",
              "      <td>0.181443</td>\n",
              "      <td>0.219780</td>\n",
              "      <td>0.002217</td>\n",
              "      <td>0.573276</td>\n",
              "    </tr>\n",
              "    <tr>\n",
              "      <th>11</th>\n",
              "      <td>0.408247</td>\n",
              "      <td>0.887363</td>\n",
              "      <td>0.758315</td>\n",
              "      <td>0.428879</td>\n",
              "    </tr>\n",
              "    <tr>\n",
              "      <th>12</th>\n",
              "      <td>0.804124</td>\n",
              "      <td>0.480769</td>\n",
              "      <td>0.660754</td>\n",
              "      <td>0.661638</td>\n",
              "    </tr>\n",
              "    <tr>\n",
              "      <th>13</th>\n",
              "      <td>0.876289</td>\n",
              "      <td>0.837912</td>\n",
              "      <td>0.481153</td>\n",
              "      <td>1.000000</td>\n",
              "    </tr>\n",
              "    <tr>\n",
              "      <th>14</th>\n",
              "      <td>0.952577</td>\n",
              "      <td>0.409341</td>\n",
              "      <td>0.567627</td>\n",
              "      <td>0.487069</td>\n",
              "    </tr>\n",
              "    <tr>\n",
              "      <th>15</th>\n",
              "      <td>0.950515</td>\n",
              "      <td>0.000000</td>\n",
              "      <td>0.835920</td>\n",
              "      <td>0.780172</td>\n",
              "    </tr>\n",
              "    <tr>\n",
              "      <th>16</th>\n",
              "      <td>0.239175</td>\n",
              "      <td>0.458791</td>\n",
              "      <td>0.053215</td>\n",
              "      <td>0.631466</td>\n",
              "    </tr>\n",
              "    <tr>\n",
              "      <th>17</th>\n",
              "      <td>0.484536</td>\n",
              "      <td>0.978022</td>\n",
              "      <td>0.447894</td>\n",
              "      <td>0.312500</td>\n",
              "    </tr>\n",
              "    <tr>\n",
              "      <th>18</th>\n",
              "      <td>0.377320</td>\n",
              "      <td>0.293956</td>\n",
              "      <td>0.257206</td>\n",
              "      <td>0.665948</td>\n",
              "    </tr>\n",
              "    <tr>\n",
              "      <th>19</th>\n",
              "      <td>0.868041</td>\n",
              "      <td>0.225275</td>\n",
              "      <td>0.822616</td>\n",
              "      <td>0.823276</td>\n",
              "    </tr>\n",
              "  </tbody>\n",
              "</table>\n",
              "</div>"
            ],
            "text/plain": [
              "          k1        k2        k3    labels\n",
              "0   1.000000  1.000000  0.077605  0.286638\n",
              "1   0.035052  0.579670  0.000000  0.558190\n",
              "2   0.354639  0.200549  0.090909  0.228448\n",
              "3   0.859794  0.178571  1.000000  0.637931\n",
              "4   0.501031  0.997253  0.585366  0.316810\n",
              "5   0.948454  0.538462  0.317073  0.000000\n",
              "6   0.000000  0.953297  0.960089  0.629310\n",
              "7   0.301031  0.659341  0.239468  0.092672\n",
              "8   0.488660  0.129121  0.203991  0.435345\n",
              "9   0.200000  0.324176  0.603104  0.312500\n",
              "10  0.181443  0.219780  0.002217  0.573276\n",
              "11  0.408247  0.887363  0.758315  0.428879\n",
              "12  0.804124  0.480769  0.660754  0.661638\n",
              "13  0.876289  0.837912  0.481153  1.000000\n",
              "14  0.952577  0.409341  0.567627  0.487069\n",
              "15  0.950515  0.000000  0.835920  0.780172\n",
              "16  0.239175  0.458791  0.053215  0.631466\n",
              "17  0.484536  0.978022  0.447894  0.312500\n",
              "18  0.377320  0.293956  0.257206  0.665948\n",
              "19  0.868041  0.225275  0.822616  0.823276"
            ]
          },
          "metadata": {
            "tags": []
          },
          "execution_count": 7
        }
      ]
    },
    {
      "cell_type": "code",
      "metadata": {
        "id": "uhAlOWX8q3uX",
        "colab_type": "code",
        "colab": {
          "base_uri": "https://localhost:8080/",
          "height": 639
        },
        "outputId": "72e4e318-1c98-4ca8-fe63-0233ade4d38e"
      },
      "source": [
        "X = df[['k1', 'k2', 'k3']]\n",
        "y = df['labels']\n",
        "X"
      ],
      "execution_count": 12,
      "outputs": [
        {
          "output_type": "execute_result",
          "data": {
            "text/html": [
              "<div>\n",
              "<style scoped>\n",
              "    .dataframe tbody tr th:only-of-type {\n",
              "        vertical-align: middle;\n",
              "    }\n",
              "\n",
              "    .dataframe tbody tr th {\n",
              "        vertical-align: top;\n",
              "    }\n",
              "\n",
              "    .dataframe thead th {\n",
              "        text-align: right;\n",
              "    }\n",
              "</style>\n",
              "<table border=\"1\" class=\"dataframe\">\n",
              "  <thead>\n",
              "    <tr style=\"text-align: right;\">\n",
              "      <th></th>\n",
              "      <th>k1</th>\n",
              "      <th>k2</th>\n",
              "      <th>k3</th>\n",
              "    </tr>\n",
              "  </thead>\n",
              "  <tbody>\n",
              "    <tr>\n",
              "      <th>0</th>\n",
              "      <td>1.000000</td>\n",
              "      <td>1.000000</td>\n",
              "      <td>0.077605</td>\n",
              "    </tr>\n",
              "    <tr>\n",
              "      <th>1</th>\n",
              "      <td>0.035052</td>\n",
              "      <td>0.579670</td>\n",
              "      <td>0.000000</td>\n",
              "    </tr>\n",
              "    <tr>\n",
              "      <th>2</th>\n",
              "      <td>0.354639</td>\n",
              "      <td>0.200549</td>\n",
              "      <td>0.090909</td>\n",
              "    </tr>\n",
              "    <tr>\n",
              "      <th>3</th>\n",
              "      <td>0.859794</td>\n",
              "      <td>0.178571</td>\n",
              "      <td>1.000000</td>\n",
              "    </tr>\n",
              "    <tr>\n",
              "      <th>4</th>\n",
              "      <td>0.501031</td>\n",
              "      <td>0.997253</td>\n",
              "      <td>0.585366</td>\n",
              "    </tr>\n",
              "    <tr>\n",
              "      <th>5</th>\n",
              "      <td>0.948454</td>\n",
              "      <td>0.538462</td>\n",
              "      <td>0.317073</td>\n",
              "    </tr>\n",
              "    <tr>\n",
              "      <th>6</th>\n",
              "      <td>0.000000</td>\n",
              "      <td>0.953297</td>\n",
              "      <td>0.960089</td>\n",
              "    </tr>\n",
              "    <tr>\n",
              "      <th>7</th>\n",
              "      <td>0.301031</td>\n",
              "      <td>0.659341</td>\n",
              "      <td>0.239468</td>\n",
              "    </tr>\n",
              "    <tr>\n",
              "      <th>8</th>\n",
              "      <td>0.488660</td>\n",
              "      <td>0.129121</td>\n",
              "      <td>0.203991</td>\n",
              "    </tr>\n",
              "    <tr>\n",
              "      <th>9</th>\n",
              "      <td>0.200000</td>\n",
              "      <td>0.324176</td>\n",
              "      <td>0.603104</td>\n",
              "    </tr>\n",
              "    <tr>\n",
              "      <th>10</th>\n",
              "      <td>0.181443</td>\n",
              "      <td>0.219780</td>\n",
              "      <td>0.002217</td>\n",
              "    </tr>\n",
              "    <tr>\n",
              "      <th>11</th>\n",
              "      <td>0.408247</td>\n",
              "      <td>0.887363</td>\n",
              "      <td>0.758315</td>\n",
              "    </tr>\n",
              "    <tr>\n",
              "      <th>12</th>\n",
              "      <td>0.804124</td>\n",
              "      <td>0.480769</td>\n",
              "      <td>0.660754</td>\n",
              "    </tr>\n",
              "    <tr>\n",
              "      <th>13</th>\n",
              "      <td>0.876289</td>\n",
              "      <td>0.837912</td>\n",
              "      <td>0.481153</td>\n",
              "    </tr>\n",
              "    <tr>\n",
              "      <th>14</th>\n",
              "      <td>0.952577</td>\n",
              "      <td>0.409341</td>\n",
              "      <td>0.567627</td>\n",
              "    </tr>\n",
              "    <tr>\n",
              "      <th>15</th>\n",
              "      <td>0.950515</td>\n",
              "      <td>0.000000</td>\n",
              "      <td>0.835920</td>\n",
              "    </tr>\n",
              "    <tr>\n",
              "      <th>16</th>\n",
              "      <td>0.239175</td>\n",
              "      <td>0.458791</td>\n",
              "      <td>0.053215</td>\n",
              "    </tr>\n",
              "    <tr>\n",
              "      <th>17</th>\n",
              "      <td>0.484536</td>\n",
              "      <td>0.978022</td>\n",
              "      <td>0.447894</td>\n",
              "    </tr>\n",
              "    <tr>\n",
              "      <th>18</th>\n",
              "      <td>0.377320</td>\n",
              "      <td>0.293956</td>\n",
              "      <td>0.257206</td>\n",
              "    </tr>\n",
              "    <tr>\n",
              "      <th>19</th>\n",
              "      <td>0.868041</td>\n",
              "      <td>0.225275</td>\n",
              "      <td>0.822616</td>\n",
              "    </tr>\n",
              "  </tbody>\n",
              "</table>\n",
              "</div>"
            ],
            "text/plain": [
              "          k1        k2        k3\n",
              "0   1.000000  1.000000  0.077605\n",
              "1   0.035052  0.579670  0.000000\n",
              "2   0.354639  0.200549  0.090909\n",
              "3   0.859794  0.178571  1.000000\n",
              "4   0.501031  0.997253  0.585366\n",
              "5   0.948454  0.538462  0.317073\n",
              "6   0.000000  0.953297  0.960089\n",
              "7   0.301031  0.659341  0.239468\n",
              "8   0.488660  0.129121  0.203991\n",
              "9   0.200000  0.324176  0.603104\n",
              "10  0.181443  0.219780  0.002217\n",
              "11  0.408247  0.887363  0.758315\n",
              "12  0.804124  0.480769  0.660754\n",
              "13  0.876289  0.837912  0.481153\n",
              "14  0.952577  0.409341  0.567627\n",
              "15  0.950515  0.000000  0.835920\n",
              "16  0.239175  0.458791  0.053215\n",
              "17  0.484536  0.978022  0.447894\n",
              "18  0.377320  0.293956  0.257206\n",
              "19  0.868041  0.225275  0.822616"
            ]
          },
          "metadata": {
            "tags": []
          },
          "execution_count": 12
        }
      ]
    },
    {
      "cell_type": "code",
      "metadata": {
        "id": "YUfA_fDwrGNE",
        "colab_type": "code",
        "colab": {
          "base_uri": "https://localhost:8080/",
          "height": 370
        },
        "outputId": "a1caca10-4299-4fb8-f54d-51bdbd6948fe"
      },
      "source": [
        "X = df[['k1', 'k2', 'k3']]\n",
        "y = df['labels']\n",
        "y"
      ],
      "execution_count": 15,
      "outputs": [
        {
          "output_type": "execute_result",
          "data": {
            "text/plain": [
              "0     0.286638\n",
              "1     0.558190\n",
              "2     0.228448\n",
              "3     0.637931\n",
              "4     0.316810\n",
              "5     0.000000\n",
              "6     0.629310\n",
              "7     0.092672\n",
              "8     0.435345\n",
              "9     0.312500\n",
              "10    0.573276\n",
              "11    0.428879\n",
              "12    0.661638\n",
              "13    1.000000\n",
              "14    0.487069\n",
              "15    0.780172\n",
              "16    0.631466\n",
              "17    0.312500\n",
              "18    0.665948\n",
              "19    0.823276\n",
              "Name: labels, dtype: float64"
            ]
          },
          "metadata": {
            "tags": []
          },
          "execution_count": 15
        }
      ]
    },
    {
      "cell_type": "code",
      "metadata": {
        "id": "4oB4gnX_rtXl",
        "colab_type": "code",
        "colab": {
          "base_uri": "https://localhost:8080/",
          "height": 34
        },
        "outputId": "5ad376f8-07ac-4a84-a5e7-d6444e49500f"
      },
      "source": [
        "from sklearn.model_selection import train_test_split\n",
        "X_train, X_test, y_train, y_test = train_test_split(X, y, test_size=0.30, random_state=42)\n",
        "X_train.shape"
      ],
      "execution_count": 16,
      "outputs": [
        {
          "output_type": "execute_result",
          "data": {
            "text/plain": [
              "(14, 3)"
            ]
          },
          "metadata": {
            "tags": []
          },
          "execution_count": 16
        }
      ]
    },
    {
      "cell_type": "code",
      "metadata": {
        "id": "-cNZynbvsBok",
        "colab_type": "code",
        "colab": {}
      },
      "source": [
        ""
      ],
      "execution_count": 0,
      "outputs": []
    },
    {
      "cell_type": "code",
      "metadata": {
        "id": "8ibHVoy6q7SZ",
        "colab_type": "code",
        "colab": {}
      },
      "source": [
        ""
      ],
      "execution_count": 0,
      "outputs": []
    }
  ]
}